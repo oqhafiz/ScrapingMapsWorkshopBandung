{
  "nbformat": 4,
  "nbformat_minor": 0,
  "metadata": {
    "colab": {
      "provenance": []
    },
    "kernelspec": {
      "name": "python3",
      "display_name": "Python 3"
    },
    "language_info": {
      "name": "python"
    }
  },
  "cells": [
    {
      "cell_type": "markdown",
      "source": [
        "WebScraping Data Bengkel di Bandung, Indonesia"
      ],
      "metadata": {
        "id": "Hktjd73oHSi1"
      }
    },
    {
      "cell_type": "code",
      "source": [
        "!pip install --quiet pandas openpyxl requests"
      ],
      "metadata": {
        "id": "Z7dVPbKsEE0Z"
      },
      "execution_count": null,
      "outputs": []
    },
    {
      "cell_type": "code",
      "source": [
        "API_KEY = \"fa156daa763b7cd25b6c760bc258e3f97db8cb35499649740d0162049b0519b2\""
      ],
      "metadata": {
        "id": "cDKSCPUdEfjG"
      },
      "execution_count": null,
      "outputs": []
    },
    {
      "cell_type": "code",
      "source": [
        "import requests, pandas as pd\n",
        "\n",
        "def scrape_bengkel_bandung(keyword=\"bengkel\", pages=5):\n",
        "    \"\"\"\n",
        "    Mengambil hasil Google Maps untuk kata kunci tertentu di Bandung.\n",
        "    • keyword  : string pencarian (mis. 'bengkel mobil', 'bengkel motor')\n",
        "    • pages    : berapa halaman (20 hasil per halaman)\n",
        "    \"\"\"\n",
        "    lat_lng_zoom = \"@-6.914744,107.609810,13z\"  # Bandung\n",
        "    all_rows = []\n",
        "\n",
        "    for page in range(pages):\n",
        "        params = {\n",
        "            \"engine\": \"google_maps\",\n",
        "            \"q\": keyword,\n",
        "            \"type\": \"search\",\n",
        "            \"hl\": \"id\",\n",
        "            \"gl\": \"id\",\n",
        "            \"api_key\": API_KEY,\n",
        "            \"start\": page * 20,\n",
        "            \"ll\": lat_lng_zoom,\n",
        "        }\n",
        "        res = requests.get(\"https://serpapi.com/search\", params=params).json()\n",
        "\n",
        "        for place in res.get(\"local_results\", []):\n",
        "            all_rows.append({\n",
        "                \"Nama\":        place.get(\"title\"),\n",
        "                \"Alamat\":      place.get(\"address\"),\n",
        "                \"Telepon\":     place.get(\"phone\"),\n",
        "                \"Rating\":      place.get(\"rating\"),\n",
        "                \"Jumlah Ulasan\": place.get(\"reviews\"),\n",
        "                \"Lat\":         place.get(\"gps_coordinates\", {}).get(\"latitude\"),\n",
        "                \"Lng\":         place.get(\"gps_coordinates\", {}).get(\"longitude\"),\n",
        "                \"Kategori\":    \", \".join(place.get(\"types\", [])),\n",
        "            })\n",
        "\n",
        "    return pd.DataFrame(all_rows)\n"
      ],
      "metadata": {
        "id": "c7Z8t-CTEjJv"
      },
      "execution_count": null,
      "outputs": []
    },
    {
      "cell_type": "code",
      "source": [
        "# tarik data bengkel mobil & motor\n",
        "df_mobil  = scrape_bengkel_bandung(\"bengkel mobil\",  pages=5)\n",
        "df_motor  = scrape_bengkel_bandung(\"bengkel motor\",  pages=5)\n",
        "\n",
        "# gabung (opsional)\n",
        "df_all = pd.concat([df_mobil, df_motor], ignore_index=True)\n",
        "\n",
        "# simpan ke Excel dengan dua sheet\n",
        "with pd.ExcelWriter(\"bandung_bengkel.xlsx\", engine=\"openpyxl\") as writer:\n",
        "    df_mobil.to_excel(writer, sheet_name=\"Bengkel_Mobil\", index=False)\n",
        "    df_motor.to_excel(writer, sheet_name=\"Bengkel_Motor\", index=False)\n",
        "\n",
        "print(\"✅ Selesai! File disimpan sebagai bandung_bengkel.xlsx\")\n"
      ],
      "metadata": {
        "colab": {
          "base_uri": "https://localhost:8080/"
        },
        "id": "8XW_JTSdEmDt",
        "outputId": "284568ff-12ce-4397-a466-30bcfb11b38c"
      },
      "execution_count": null,
      "outputs": [
        {
          "output_type": "stream",
          "name": "stdout",
          "text": [
            "✅ Selesai! File disimpan sebagai bandung_bengkel.xlsx\n"
          ]
        }
      ]
    },
    {
      "cell_type": "code",
      "source": [
        "from google.colab import files\n",
        "files.download(\"bandung_bengkel.xlsx\")\n"
      ],
      "metadata": {
        "colab": {
          "base_uri": "https://localhost:8080/",
          "height": 17
        },
        "id": "pH6uFWsNEpOB",
        "outputId": "5392f394-b869-41f8-b922-c83d2be4a2bf"
      },
      "execution_count": null,
      "outputs": [
        {
          "output_type": "display_data",
          "data": {
            "text/plain": [
              "<IPython.core.display.Javascript object>"
            ],
            "application/javascript": [
              "\n",
              "    async function download(id, filename, size) {\n",
              "      if (!google.colab.kernel.accessAllowed) {\n",
              "        return;\n",
              "      }\n",
              "      const div = document.createElement('div');\n",
              "      const label = document.createElement('label');\n",
              "      label.textContent = `Downloading \"${filename}\": `;\n",
              "      div.appendChild(label);\n",
              "      const progress = document.createElement('progress');\n",
              "      progress.max = size;\n",
              "      div.appendChild(progress);\n",
              "      document.body.appendChild(div);\n",
              "\n",
              "      const buffers = [];\n",
              "      let downloaded = 0;\n",
              "\n",
              "      const channel = await google.colab.kernel.comms.open(id);\n",
              "      // Send a message to notify the kernel that we're ready.\n",
              "      channel.send({})\n",
              "\n",
              "      for await (const message of channel.messages) {\n",
              "        // Send a message to notify the kernel that we're ready.\n",
              "        channel.send({})\n",
              "        if (message.buffers) {\n",
              "          for (const buffer of message.buffers) {\n",
              "            buffers.push(buffer);\n",
              "            downloaded += buffer.byteLength;\n",
              "            progress.value = downloaded;\n",
              "          }\n",
              "        }\n",
              "      }\n",
              "      const blob = new Blob(buffers, {type: 'application/binary'});\n",
              "      const a = document.createElement('a');\n",
              "      a.href = window.URL.createObjectURL(blob);\n",
              "      a.download = filename;\n",
              "      div.appendChild(a);\n",
              "      a.click();\n",
              "      div.remove();\n",
              "    }\n",
              "  "
            ]
          },
          "metadata": {}
        },
        {
          "output_type": "display_data",
          "data": {
            "text/plain": [
              "<IPython.core.display.Javascript object>"
            ],
            "application/javascript": [
              "download(\"download_d085cb1d-d82d-492c-8664-329531c98f14\", \"bandung_bengkel.xlsx\", 24281)"
            ]
          },
          "metadata": {}
        }
      ]
    }
  ]
}